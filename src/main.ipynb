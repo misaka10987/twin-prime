{
 "cells": [
  {
   "cell_type": "markdown",
   "id": "5fd66971",
   "metadata": {},
   "source": [
    "# Prerequisite\n",
    "\n",
    "This project requires the [uv](https://docs.astral.sh/uv/) package manager to run. Make sure you are running this notebook with the generated virtual environment.\n",
    "\n",
    "Install project dependencies:"
   ]
  },
  {
   "cell_type": "code",
   "execution_count": null,
   "id": "1d119abd",
   "metadata": {},
   "outputs": [],
   "source": [
    "!uv sync"
   ]
  },
  {
   "cell_type": "markdown",
   "id": "18456c8f",
   "metadata": {},
   "source": [
    "# Preparation"
   ]
  },
  {
   "cell_type": "markdown",
   "id": "d6c2e4b3",
   "metadata": {},
   "source": [
    "Imports."
   ]
  },
  {
   "cell_type": "code",
   "execution_count": null,
   "id": "78b35d47",
   "metadata": {},
   "outputs": [],
   "source": [
    "from sympy import isprime\n",
    "import matplotlib.pyplot as plt\n",
    "from scipy.integrate import quad\n",
    "from math import log"
   ]
  },
  {
   "cell_type": "markdown",
   "id": "daecb84a",
   "metadata": {},
   "source": [
    "Set an upper limit for our searching and number of intervals on our plot. You may change these parameters."
   ]
  },
  {
   "cell_type": "code",
   "execution_count": null,
   "id": "ef36fcbc",
   "metadata": {},
   "outputs": [],
   "source": [
    "SEARCH_MAX = 1000\n",
    "INTERVAL_CNT = 10"
   ]
  },
  {
   "cell_type": "markdown",
   "id": "65648e01",
   "metadata": {},
   "source": [
    "Calculate size of each bin on histogram for future use."
   ]
  },
  {
   "cell_type": "code",
   "execution_count": null,
   "id": "69e60c9e",
   "metadata": {},
   "outputs": [],
   "source": [
    "bin_size = SEARCH_MAX / INTERVAL_CNT"
   ]
  },
  {
   "cell_type": "markdown",
   "id": "4e75bf44",
   "metadata": {},
   "source": [
    "Definition for twin primes."
   ]
  },
  {
   "cell_type": "code",
   "execution_count": null,
   "id": "f0f25742",
   "metadata": {},
   "outputs": [],
   "source": [
    "def check(n: int) -> bool:\n",
    "    return isprime(n) and isprime(n + 2)"
   ]
  },
  {
   "cell_type": "markdown",
   "id": "0ffff20b",
   "metadata": {},
   "source": [
    "Numerical integral for the [First Hardy-Littlewood Conjecture](https://en.wikipedia.org/wiki/First_Hardy%E2%80%93Littlewood_conjecture), which gives an estimation of distribution of twin primes:\n",
    "\n",
    "$$\n",
    "\\pi_2(n)\\sim C_2\\int_2^n(\\ln x)^{-2}\\mathrm d t\n",
    "$$\n",
    "\n",
    "where $\\pi_2(n)$ is the number of twin prime pairs less than $n$ and $C_2\\approx1.320323632$ is constant.\n",
    "\n",
    "To give an estimation of number of twin prime pairs on certain intervals, we can change the interval of the definite integral."
   ]
  },
  {
   "cell_type": "code",
   "execution_count": null,
   "id": "d10dcf66",
   "metadata": {},
   "outputs": [],
   "source": [
    "def hardy_littlewood(lower: float, upper: float) -> float:\n",
    "    C2 = 1.320323632\n",
    "\n",
    "    def f(x: float):\n",
    "        return 1 / log(x) ** 2\n",
    "\n",
    "    i, _err = quad(f, lower, upper)\n",
    "\n",
    "    return C2 * i"
   ]
  },
  {
   "cell_type": "markdown",
   "id": "7d004922",
   "metadata": {},
   "source": [
    "# Searching for Twin Primes\n",
    "\n",
    "We use brute force to search for twin prime pairs on specific interval."
   ]
  },
  {
   "cell_type": "code",
   "execution_count": null,
   "id": "e8dee5a8",
   "metadata": {},
   "outputs": [],
   "source": [
    "print(f'Searching for twin primes under {SEARCH_MAX}')\n",
    "found = [i for i in range(SEARCH_MAX) if check(i)]\n",
    "print(f'Found {len(found)} twin prime pairs.')"
   ]
  },
  {
   "cell_type": "markdown",
   "id": "771c187e",
   "metadata": {},
   "source": [
    "# Visualized Distribution\n",
    "\n",
    "We could plot the twin prime pairs found in a histogram to visualize the distribution, using `matplotlib`."
   ]
  },
  {
   "cell_type": "code",
   "execution_count": null,
   "id": "fb53ee39",
   "metadata": {},
   "outputs": [],
   "source": [
    "def plot_hist():\n",
    "    _ = plt.hist(found, bins=INTERVAL_CNT)\n",
    "    _ = plt.title('Distrubution of Twin Primes')\n",
    "    _ = plt.xlabel('The smaller twin')\n",
    "    _ = plt.ylabel('Count')"
   ]
  },
  {
   "cell_type": "code",
   "execution_count": null,
   "id": "c89ca699",
   "metadata": {},
   "outputs": [],
   "source": [
    "plot_hist()"
   ]
  },
  {
   "cell_type": "markdown",
   "id": "1fd0ee08",
   "metadata": {},
   "source": [
    "# Compare w/ Hardy-Littlewood Conjecture\n",
    "\n",
    "For each interval on the histogram, we could estimate the number of twin prime pairs with first Hardy-Littlewood Conjecture, and plot the estimated value in a line chart to see if it is consistent with the actual case.\n",
    "\n",
    "Note that the integral doesn't always converge for a lower bound less than $2$ , so we use a starting point of $2$ instead of $0$ for the first interval."
   ]
  },
  {
   "cell_type": "code",
   "execution_count": null,
   "id": "a64962d3",
   "metadata": {},
   "outputs": [],
   "source": [
    "def plot_estimate():\n",
    "    plot_hist()\n",
    "\n",
    "    x = [i * bin_size for i in range(INTERVAL_CNT)]\n",
    "\n",
    "    def f(n: float) -> float:\n",
    "        return hardy_littlewood(max(2, n), n + bin_size)\n",
    "\n",
    "    y = [f(i) for i in x]\n",
    "\n",
    "    _ = plt.plot(x, y)"
   ]
  },
  {
   "cell_type": "code",
   "execution_count": null,
   "id": "36acd237",
   "metadata": {},
   "outputs": [],
   "source": [
    "plot_estimate()"
   ]
  }
 ],
 "metadata": {
  "kernelspec": {
   "display_name": ".venv",
   "language": "python",
   "name": "python3"
  },
  "language_info": {
   "codemirror_mode": {
    "name": "ipython",
    "version": 3
   },
   "file_extension": ".py",
   "mimetype": "text/x-python",
   "name": "python",
   "nbconvert_exporter": "python",
   "pygments_lexer": "ipython3",
   "version": "3.13.5"
  }
 },
 "nbformat": 4,
 "nbformat_minor": 5
}
